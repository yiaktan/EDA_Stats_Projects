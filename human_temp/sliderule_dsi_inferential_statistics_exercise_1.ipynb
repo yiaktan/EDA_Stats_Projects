{
 "cells": [
  {
   "cell_type": "markdown",
   "metadata": {},
   "source": [
    "# What is the True Normal Human Body Temperature? \n",
    "\n",
    "#### Background\n",
    "\n",
    "The mean normal body temperature was held to be 37$^{\\circ}$C or 98.6$^{\\circ}$F for more than 120 years since it was first conceptualized and reported by Carl Wunderlich in a famous 1868 book. But, is this value statistically correct?"
   ]
  },
  {
   "cell_type": "markdown",
   "metadata": {},
   "source": [
    "<h3>Exercises</h3>\n",
    "\n",
    "<p>In this exercise, you will analyze a dataset of human body temperatures and employ the concepts of hypothesis testing, confidence intervals, and statistical significance.</p>\n",
    "\n",
    "<p>Answer the following questions <b>in this notebook below and submit to your Github account</b>.</p> \n",
    "\n",
    "<ol>\n",
    "<li>  Is the distribution of body temperatures normal? \n",
    "    <ul>\n",
    "    <li> Although this is not a requirement for CLT to hold (read CLT carefully), it gives us some peace of mind that the population may also be normally distributed if we assume that this sample is representative of the population.\n",
    "    </ul>\n",
    "<li>  Is the sample size large? Are the observations independent?\n",
    "    <ul>\n",
    "    <li> Remember that this is a condition for the CLT, and hence the statistical tests we are using, to apply.\n",
    "    </ul>\n",
    "<li>  Is the true population mean really 98.6 degrees F?\n",
    "    <ul>\n",
    "    <li> Would you use a one-sample or two-sample test? Why?\n",
    "    <li> In this situation, is it appropriate to use the $t$ or $z$ statistic? \n",
    "    <li> Now try using the other test. How is the result be different? Why?\n",
    "    </ul>\n",
    "<li>  Draw a small sample of size 10 from the data and repeat both tests. \n",
    "    <ul>\n",
    "    <li> Which one is the correct one to use? \n",
    "    <li> What do you notice? What does this tell you about the difference in application of the $t$ and $z$ statistic?\n",
    "    </ul>\n",
    "<li>  At what temperature should we consider someone's temperature to be \"abnormal\"?\n",
    "    <ul>\n",
    "    <li> Start by computing the margin of error and confidence interval.\n",
    "    </ul>\n",
    "<li>  Is there a significant difference between males and females in normal temperature?\n",
    "    <ul>\n",
    "    <li> What test did you use and why?\n",
    "    <li> Write a story with your conclusion in the context of the original problem.\n",
    "    </ul>\n",
    "</ol>\n",
    "\n",
    "You can include written notes in notebook cells using Markdown: \n",
    "   - In the control panel at the top, choose Cell > Cell Type > Markdown\n",
    "   - Markdown syntax: http://nestacms.com/docs/creating-content/markdown-cheat-sheet\n",
    "\n",
    "#### Resources\n",
    "\n",
    "+ Information and data sources: http://www.amstat.org/publications/jse/datasets/normtemp.txt, http://www.amstat.org/publications/jse/jse_data_archive.htm\n",
    "+ Markdown syntax: http://nestacms.com/docs/creating-content/markdown-cheat-sheet\n",
    "\n",
    "****"
   ]
  },
  {
   "cell_type": "code",
   "execution_count": 1,
   "metadata": {},
   "outputs": [],
   "source": [
    "import pandas as pd\n",
    "\n",
    "df = pd.read_csv('data/human_body_temperature.csv')"
   ]
  },
  {
   "cell_type": "code",
   "execution_count": 2,
   "metadata": {},
   "outputs": [],
   "source": [
    "import numpy as np\n",
    "import matplotlib.pyplot as plt\n",
    "%matplotlib inline\n",
    "plt.rcParams['figure.figsize'] = (12, 5)\n",
    "from scipy import stats"
   ]
  },
  {
   "cell_type": "code",
   "execution_count": 3,
   "metadata": {},
   "outputs": [],
   "source": [
    "def plot_ecdf(data,label,log_scale=0):\n",
    "    n = len(data)\n",
    "    x = np.sort(data)\n",
    "    y = np.arange(1,n+1)/n\n",
    "    \n",
    "    #Make plot\n",
    "    ecdf = plt.plot(x, y,label=label,marker='.',linestyle='none')\n",
    "\n",
    "    if log_scale == 1:\n",
    "        plt.xscale('log')\n",
    "        plt.xlabel(label)\n",
    "        plt.ylabel('ECDF')\n",
    "        plt.ylim(ymax=1)\n",
    "    else:\n",
    "        plt.xlabel(label)\n",
    "        plt.ylabel('ECDF')\n",
    "        plt.ylim(ymax=1)\n",
    "    return ecdf"
   ]
  },
  {
   "cell_type": "markdown",
   "metadata": {},
   "source": [
    "## 1. Is the distribution of body temperatures normal? "
   ]
  },
  {
   "cell_type": "code",
   "execution_count": 4,
   "metadata": {},
   "outputs": [
    {
     "data": {
      "text/plain": [
       "NormaltestResult(statistic=2.7038014333192031, pvalue=0.2587479863488254)"
      ]
     },
     "execution_count": 4,
     "metadata": {},
     "output_type": "execute_result"
    }
   ],
   "source": [
    "norm_temp = np.random.normal(df['temperature'].mean(),df['temperature'].std(),len(df['temperature']))\n",
    "stats.normaltest(df['temperature'])"
   ]
  },
  {
   "cell_type": "code",
   "execution_count": 5,
   "metadata": {
    "scrolled": true
   },
   "outputs": [
    {
     "data": {
      "image/png": "[encoded data removed]",
      "text/plain": [
       "<matplotlib.figure.Figure at 0x107bad4e0>"
      ]
     },
     "metadata": {},
     "output_type": "display_data"
    }
   ],
   "source": [
    "plot_ecdf(norm_temp,'Normal Distribution')\n",
    "plot_ecdf(df['temperature'],'Actual')\n",
    "plt.legend()\n",
    "plt.show()"
   ]
  },
  {
   "cell_type": "markdown",
   "metadata": {},
   "source": [
    "Body temperature is normally distributed\n",
    "## 2. Is the sample size large? Are the observations independent?"
   ]
  },
  {
   "cell_type": "code",
   "execution_count": 6,
   "metadata": {},
   "outputs": [
    {
     "data": {
      "text/plain": [
       "(130, 3)"
      ]
     },
     "execution_count": 6,
     "metadata": {},
     "output_type": "execute_result"
    }
   ],
   "source": [
    "df.shape"
   ]
  },
  {
   "cell_type": "markdown",
   "metadata": {},
   "source": [
    "Sample size is large (n>30), and features appear independent, as each observation is from a different person and not impacted by other observations. \n",
    "## 3 . Is the true population mean really 98.6 degrees F?\n",
    "\n",
    "It is appropriate to use a one sample t-test because I am comparing one sample to the population mean, and the population standard deviation is unknown.\n",
    "\n",
    "$$t = \\frac{\\bar{x} - \\mu_{\\bar{x}}}{\\frac{s}{\\sqrt{n}}}$$\n",
    "\n",
    "__H<sub>0</sub>__ = No statistically significant difference between population mean and sample mean (p >= .05)<br>\n",
    "__H<sub>a</sub>__ = Statisticially signficant difference between population mean and sample mean (p < .05)\n"
   ]
  },
  {
   "cell_type": "code",
   "execution_count": 7,
   "metadata": {},
   "outputs": [
    {
     "data": {
      "text/plain": [
       "Ttest_1sampResult(statistic=-5.4548232923645195, pvalue=2.4106320415561276e-07)"
      ]
     },
     "execution_count": 7,
     "metadata": {},
     "output_type": "execute_result"
    }
   ],
   "source": [
    "x_bar = df.temperature.mean()\n",
    "mu = 98.6\n",
    "s = df.temperature.std()\n",
    "n = len(df.temperature)\n",
    "\n",
    "stats.ttest_1samp(a=df.temperature,popmean =mu)"
   ]
  },
  {
   "cell_type": "markdown",
   "metadata": {},
   "source": [
    "The null hypothesis is rejected as there is a statistically significant difference (p < .05) between the sample mean and population mean (98.6).\n",
    "\n",
    "A Z-score can also be used since n > 30, and the sample standard deviation can be used as an estimate of that of the population."
   ]
  },
  {
   "cell_type": "markdown",
   "metadata": {},
   "source": [
    "$$ z = \\frac{\\bar{x} - \\mu_{\\bar{x}}}{\\sigma}$$<br>\n",
    "$$ \\sigma \\approx {\\frac{s}{\\sqrt{n}}}$$\n",
    "Substituting in sigma for sample standard deviation...<br>\n",
    "$$ z = \\frac{\\bar{x} - \\mu_{\\bar{x}}}{\\frac{s}{\\sqrt{n}}}$$\n",
    "The final equation is equivelant to that of the t statistic."
   ]
  },
  {
   "cell_type": "code",
   "execution_count": 8,
   "metadata": {},
   "outputs": [
    {
     "name": "stdout",
     "output_type": "stream",
     "text": [
      "Z Score: -5.4548232923645195\n",
      "p value: 4.9021570141012155e-08\n"
     ]
    }
   ],
   "source": [
    "z_score = (x_bar - mu)/(s/n**(1/2))\n",
    "p_value = stats.norm.sf(abs(z_score))*2\n",
    "\n",
    "print('Z Score: {}'.format(z_score))\n",
    "print('p value: {}'.format(p_value))\n"
   ]
  },
  {
   "cell_type": "code",
   "execution_count": 9,
   "metadata": {},
   "outputs": [
    {
     "ename": "NameError",
     "evalue": "name 'sigma' is not defined",
     "output_type": "error",
     "traceback": [
      "\u001b[0;31m---------------------------------------------------------------------------\u001b[0m",
      "\u001b[0;31mNameError\u001b[0m                                 Traceback (most recent call last)",
      "\u001b[0;32m<ipython-input-9-a0d0c587f4b2>\u001b[0m in \u001b[0;36m<module>\u001b[0;34m()\u001b[0m\n\u001b[0;32m----> 1\u001b[0;31m \u001b[0;34m(\u001b[0m\u001b[0mx_bar\u001b[0m \u001b[0;34m-\u001b[0m \u001b[0mmu\u001b[0m\u001b[0;34m)\u001b[0m\u001b[0;34m/\u001b[0m\u001b[0;34m(\u001b[0m\u001b[0msigma\u001b[0m\u001b[0;34m/\u001b[0m\u001b[0mn\u001b[0m\u001b[0;34m**\u001b[0m\u001b[0;36m.5\u001b[0m\u001b[0;34m)\u001b[0m\u001b[0;34m\u001b[0m\u001b[0m\n\u001b[0m",
      "\u001b[0;31mNameError\u001b[0m: name 'sigma' is not defined"
     ]
    }
   ],
   "source": [
    "(x_bar - mu)/(sigma/n**.5)"
   ]
  },
  {
   "cell_type": "markdown",
   "metadata": {},
   "source": [
    "Because p < .05 I reject the null hypothesis at the 95% confidence interval, meaning there is a statistically significant difference between the sample mean and Wunderlich's reported population mean.<br>\n",
    "\n",
    "The t and z statistics both indicate a rejection of the null hypothesis. Because the n > 30 and the sample standard deviation is used to estimate population standard deviation, I end up using the same numbers for both $z$ and $t$ calculations.\n",
    "\n",
    "## 4. Draw a small sample of size 10 from the data and repeat both tests."
   ]
  },
  {
   "cell_type": "code",
   "execution_count": null,
   "metadata": {},
   "outputs": [],
   "source": [
    "# Get a random sample of 10 observations\n",
    "random_sample = np.random.choice(df.temperature,size=10)\n",
    "#Calculate sample mean, standard deviation, and n\n",
    "rsx_bar = random_sample.mean()\n",
    "rs_sigma = random_sample.std()\n",
    "rs_n = len(random_sample)\n",
    "\n",
    "#t test\n",
    "t_stat, t_pvalue = stats.ttest_1samp(a=random_sample,popmean=mu)\n",
    "\n",
    "#z test\n",
    "z_stat = (rsx_bar - mu)/(rs_sigma/rs_n**(1/2))\n",
    "z_pvalue = stats.norm.sf(abs(z_stat))*2\n",
    "\n",
    "print('t-test: t-stat = {}, p value = {}'.format(t_stat,t_pvalue))\n",
    "print('z-test: z-stat = {}, p value = {}'.format(z_stat,z_pvalue))"
   ]
  },
  {
   "cell_type": "markdown",
   "metadata": {},
   "source": [
    " By taking a sample of size 10, n < 30 which means it wouldn't be appropriate to calculate a $z$ score.\n",
    " Although both the $z$ statistic and $t$ statistic suggest a failure to reject the null hypothesis, the p value using the $z$-test is noticeably smaller than that of the $t$ statistic. Using the wrong test under specific conditions can yield incorrect results. Its possible that under another random sample draw, the p value for the $z$ statistic would be low enough to incorrectly reject the null hypothesis\n",
    " \n",
    " ## 5. At what temperature should we consider someone's temperature to be \"abnormal\"?\n",
    " \n",
    "__Standard Error of Mean:__\n",
    "$$\\sigma_{\\bar{x}} \\approx \\frac{s}{\\sqrt{n}}$$\n",
    "\n",
    "__Confidence Interval:__\n",
    "$${\\bar{x}}\\pm z * \\sigma_{\\bar{x}}$$\n",
    "where z is the z score at a particular confidence interval."
   ]
  },
  {
   "cell_type": "code",
   "execution_count": null,
   "metadata": {},
   "outputs": [],
   "source": [
    "stats.t.interval(alpha = .95,\n",
    "                 df = n-1,\n",
    "                 loc = x_bar,\n",
    "                 scale=stats.sem(df.temperature))"
   ]
  },
  {
   "cell_type": "markdown",
   "metadata": {},
   "source": [
    "I calculate a confidence interval of 95% from the sample data. At this interval, any temperature lower than 98.12 or greater than 98.38 should be considered abnormal.\n",
    "\n",
    "## 6.  Is there a significant difference between males and females in normal temperature?\n",
    "\n",
    "To see if there is statistically significant difference in body temperature between males and females, I will begin by plotting boxplots and KDEs to visually inspect any differences"
   ]
  },
  {
   "cell_type": "code",
   "execution_count": null,
   "metadata": {
    "scrolled": false
   },
   "outputs": [],
   "source": [
    "import seaborn as sns\n",
    "male_temp = df.temperature.loc[df.gender == 'F']\n",
    "female_temp = df.temperature.loc[df.gender == 'M']\n",
    "#Temp boxplot by gender\n",
    "plt.subplot(121)\n",
    "sns.set_style()\n",
    "sns.boxplot(x='gender',\n",
    "            y='temperature',\n",
    "            data=df)\n",
    "\n",
    "#Temp KDE plot by gender\n",
    "plt.subplot(122)\n",
    "sns.kdeplot(male_temp,label='Female',shade=True)\n",
    "sns.kdeplot(female_temp,label='Male',shade=True)\n",
    "plt.show()"
   ]
  },
  {
   "cell_type": "markdown",
   "metadata": {},
   "source": [
    "The distributions for males and females are noticeably different. I will test for statistical significance in the difference of the means for males and females using a two sample $t$ test.<br><br>\n",
    "$\\mu_m$ : population temperature mean for males<br>\n",
    "$\\mu_f$ : population temperature mean for females<br><br>\n",
    "$\\bar{x}_m$ : sample temperature mean for males<br>\n",
    "$\\bar{x}_f$ : sample temperature mean for females<br><br>\n",
    "H<sub>0</sub> : $\\mu_m = \\mu_f $ The two means are equal  <br>\n",
    "H<sub>a</sub> : $\\mu_m \\neq \\mu_f $ The two means are not equal<br><br>\n",
    "\n",
    "$$ t = \\frac{\\bar{x}_m - \\bar{x}_f}{\\sqrt{\\frac{s^2_m}{n_m}+{\\frac{s^2_f}{n_f}}}}$$"
   ]
  },
  {
   "cell_type": "code",
   "execution_count": null,
   "metadata": {
    "scrolled": true
   },
   "outputs": [],
   "source": [
    "statistic, pvalue = stats.ttest_ind(a= male_temp,\n",
    "                b = female_temp,\n",
    "                equal_var = False)\n",
    "print('t statistic: {}, p value: {}'.format(statistic,pvalue))"
   ]
  },
  {
   "cell_type": "markdown",
   "metadata": {},
   "source": [
    "As p < .05, I reject the null hypothesis at the 95% confidence interval, indicating that there is a statistically signficant difference in body temperature between males and females. This corrobates what I inferred from the KDE and boxplots."
   ]
  },
  {
   "cell_type": "code",
   "execution_count": null,
   "metadata": {},
   "outputs": [],
   "source": []
  }
 ],
 "metadata": {
  "kernelspec": {
   "display_name": "Python 3",
   "language": "python",
   "name": "python3"
  },
  "language_info": {
   "codemirror_mode": {
    "name": "ipython",
    "version": 3
   },
   "file_extension": ".py",
   "mimetype": "text/x-python",
   "name": "python",
   "nbconvert_exporter": "python",
   "pygments_lexer": "ipython3",
   "version": "3.6.3"
  }
 },
 "nbformat": 4,
 "nbformat_minor": 1
}
