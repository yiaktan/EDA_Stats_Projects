{
 "cells": [
  {
   "cell_type": "markdown",
   "metadata": {},
   "source": [
    "# Examining Racial Discrimination in the US Job Market\n",
    "\n",
    "### Background\n",
    "Racial discrimination continues to be pervasive in cultures throughout the world. Researchers examined the level of racial discrimination in the United States labor market by randomly assigning identical résumés to black-sounding or white-sounding names and observing the impact on requests for interviews from employers.\n",
    "\n",
    "### Data\n",
    "In the dataset provided, each row represents a resume. The 'race' column has two values, 'b' and 'w', indicating black-sounding and white-sounding. The column 'call' has two values, 1 and 0, indicating whether the resume received a call from employers or not.\n",
    "\n",
    "Note that the 'b' and 'w' values in race are assigned randomly to the resumes when presented to the employer."
   ]
  },
  {
   "cell_type": "markdown",
   "metadata": {},
   "source": [
    "### Exercises\n",
    "You will perform a statistical analysis to establish whether race has a significant impact on the rate of callbacks for resumes.\n",
    "\n",
    "Answer the following questions **in this notebook below and submit to your Github account**. \n",
    "\n",
    "   1. What test is appropriate for this problem? Does CLT apply?\n",
    "   2. What are the null and alternate hypotheses?\n",
    "   3. Compute margin of error, confidence interval, and p-value.\n",
    "   4. Write a story describing the statistical significance in the context or the original problem.\n",
    "   5. Does your analysis mean that race/name is the most important factor in callback success? Why or why not? If not, how would you amend your analysis?\n",
    "\n",
    "You can include written notes in notebook cells using Markdown: \n",
    "   - In the control panel at the top, choose Cell > Cell Type > Markdown\n",
    "   - Markdown syntax: http://nestacms.com/docs/creating-content/markdown-cheat-sheet\n",
    "\n",
    "\n",
    "#### Resources\n",
    "+ Experiment information and data source: http://www.povertyactionlab.org/evaluation/discrimination-job-market-united-states\n",
    "+ Scipy statistical methods: http://docs.scipy.org/doc/scipy/reference/stats.html \n",
    "+ Markdown syntax: http://nestacms.com/docs/creating-content/markdown-cheat-sheet\n",
    "****"
   ]
  },
  {
   "cell_type": "code",
   "execution_count": 1,
   "metadata": {},
   "outputs": [],
   "source": [
    "import pandas as pd\n",
    "import numpy as np\n",
    "from scipy import stats"
   ]
  },
  {
   "cell_type": "code",
   "execution_count": 2,
   "metadata": {},
   "outputs": [],
   "source": [
    "data = pd.io.stata.read_stata('data/us_job_market_discrimination.dta')"
   ]
  },
  {
   "cell_type": "code",
   "execution_count": 3,
   "metadata": {},
   "outputs": [
    {
     "data": {
      "text/plain": [
       "157.0"
      ]
     },
     "execution_count": 3,
     "metadata": {},
     "output_type": "execute_result"
    }
   ],
   "source": [
    "# number of callbacks for black-sounding names\n",
    "sum(data[data.race=='b'].call)\n"
   ]
  },
  {
   "cell_type": "code",
   "execution_count": 4,
   "metadata": {},
   "outputs": [
    {
     "data": {
      "text/html": [
       "<div>\n",
       "<style scoped>\n",
       "    .dataframe tbody tr th:only-of-type {\n",
       "        vertical-align: middle;\n",
       "    }\n",
       "\n",
       "    .dataframe tbody tr th {\n",
       "        vertical-align: top;\n",
       "    }\n",
       "\n",
       "    .dataframe thead th {\n",
       "        text-align: right;\n",
       "    }\n",
       "</style>\n",
       "<table border=\"1\" class=\"dataframe\">\n",
       "  <thead>\n",
       "    <tr style=\"text-align: right;\">\n",
       "      <th></th>\n",
       "      <th>id</th>\n",
       "      <th>ad</th>\n",
       "      <th>education</th>\n",
       "      <th>ofjobs</th>\n",
       "      <th>yearsexp</th>\n",
       "      <th>honors</th>\n",
       "      <th>volunteer</th>\n",
       "      <th>military</th>\n",
       "      <th>empholes</th>\n",
       "      <th>occupspecific</th>\n",
       "      <th>...</th>\n",
       "      <th>compreq</th>\n",
       "      <th>orgreq</th>\n",
       "      <th>manuf</th>\n",
       "      <th>transcom</th>\n",
       "      <th>bankreal</th>\n",
       "      <th>trade</th>\n",
       "      <th>busservice</th>\n",
       "      <th>othservice</th>\n",
       "      <th>missind</th>\n",
       "      <th>ownership</th>\n",
       "    </tr>\n",
       "  </thead>\n",
       "  <tbody>\n",
       "    <tr>\n",
       "      <th>0</th>\n",
       "      <td>b</td>\n",
       "      <td>1</td>\n",
       "      <td>4</td>\n",
       "      <td>2</td>\n",
       "      <td>6</td>\n",
       "      <td>0</td>\n",
       "      <td>0</td>\n",
       "      <td>0</td>\n",
       "      <td>1</td>\n",
       "      <td>17</td>\n",
       "      <td>...</td>\n",
       "      <td>1.0</td>\n",
       "      <td>0.0</td>\n",
       "      <td>1.0</td>\n",
       "      <td>0.0</td>\n",
       "      <td>0.0</td>\n",
       "      <td>0.0</td>\n",
       "      <td>0.0</td>\n",
       "      <td>0.0</td>\n",
       "      <td>0.0</td>\n",
       "      <td></td>\n",
       "    </tr>\n",
       "    <tr>\n",
       "      <th>1</th>\n",
       "      <td>b</td>\n",
       "      <td>1</td>\n",
       "      <td>3</td>\n",
       "      <td>3</td>\n",
       "      <td>6</td>\n",
       "      <td>0</td>\n",
       "      <td>1</td>\n",
       "      <td>1</td>\n",
       "      <td>0</td>\n",
       "      <td>316</td>\n",
       "      <td>...</td>\n",
       "      <td>1.0</td>\n",
       "      <td>0.0</td>\n",
       "      <td>1.0</td>\n",
       "      <td>0.0</td>\n",
       "      <td>0.0</td>\n",
       "      <td>0.0</td>\n",
       "      <td>0.0</td>\n",
       "      <td>0.0</td>\n",
       "      <td>0.0</td>\n",
       "      <td></td>\n",
       "    </tr>\n",
       "    <tr>\n",
       "      <th>2</th>\n",
       "      <td>b</td>\n",
       "      <td>1</td>\n",
       "      <td>4</td>\n",
       "      <td>1</td>\n",
       "      <td>6</td>\n",
       "      <td>0</td>\n",
       "      <td>0</td>\n",
       "      <td>0</td>\n",
       "      <td>0</td>\n",
       "      <td>19</td>\n",
       "      <td>...</td>\n",
       "      <td>1.0</td>\n",
       "      <td>0.0</td>\n",
       "      <td>1.0</td>\n",
       "      <td>0.0</td>\n",
       "      <td>0.0</td>\n",
       "      <td>0.0</td>\n",
       "      <td>0.0</td>\n",
       "      <td>0.0</td>\n",
       "      <td>0.0</td>\n",
       "      <td></td>\n",
       "    </tr>\n",
       "    <tr>\n",
       "      <th>3</th>\n",
       "      <td>b</td>\n",
       "      <td>1</td>\n",
       "      <td>3</td>\n",
       "      <td>4</td>\n",
       "      <td>6</td>\n",
       "      <td>0</td>\n",
       "      <td>1</td>\n",
       "      <td>0</td>\n",
       "      <td>1</td>\n",
       "      <td>313</td>\n",
       "      <td>...</td>\n",
       "      <td>1.0</td>\n",
       "      <td>0.0</td>\n",
       "      <td>1.0</td>\n",
       "      <td>0.0</td>\n",
       "      <td>0.0</td>\n",
       "      <td>0.0</td>\n",
       "      <td>0.0</td>\n",
       "      <td>0.0</td>\n",
       "      <td>0.0</td>\n",
       "      <td></td>\n",
       "    </tr>\n",
       "    <tr>\n",
       "      <th>4</th>\n",
       "      <td>b</td>\n",
       "      <td>1</td>\n",
       "      <td>3</td>\n",
       "      <td>3</td>\n",
       "      <td>22</td>\n",
       "      <td>0</td>\n",
       "      <td>0</td>\n",
       "      <td>0</td>\n",
       "      <td>0</td>\n",
       "      <td>313</td>\n",
       "      <td>...</td>\n",
       "      <td>1.0</td>\n",
       "      <td>1.0</td>\n",
       "      <td>0.0</td>\n",
       "      <td>0.0</td>\n",
       "      <td>0.0</td>\n",
       "      <td>0.0</td>\n",
       "      <td>0.0</td>\n",
       "      <td>1.0</td>\n",
       "      <td>0.0</td>\n",
       "      <td>Nonprofit</td>\n",
       "    </tr>\n",
       "  </tbody>\n",
       "</table>\n",
       "<p>5 rows × 65 columns</p>\n",
       "</div>"
      ],
      "text/plain": [
       "  id ad  education  ofjobs  yearsexp  honors  volunteer  military  empholes  \\\n",
       "0  b  1          4       2         6       0          0         0         1   \n",
       "1  b  1          3       3         6       0          1         1         0   \n",
       "2  b  1          4       1         6       0          0         0         0   \n",
       "3  b  1          3       4         6       0          1         0         1   \n",
       "4  b  1          3       3        22       0          0         0         0   \n",
       "\n",
       "   occupspecific    ...      compreq  orgreq  manuf  transcom  bankreal trade  \\\n",
       "0             17    ...          1.0     0.0    1.0       0.0       0.0   0.0   \n",
       "1            316    ...          1.0     0.0    1.0       0.0       0.0   0.0   \n",
       "2             19    ...          1.0     0.0    1.0       0.0       0.0   0.0   \n",
       "3            313    ...          1.0     0.0    1.0       0.0       0.0   0.0   \n",
       "4            313    ...          1.0     1.0    0.0       0.0       0.0   0.0   \n",
       "\n",
       "  busservice othservice  missind  ownership  \n",
       "0        0.0        0.0      0.0             \n",
       "1        0.0        0.0      0.0             \n",
       "2        0.0        0.0      0.0             \n",
       "3        0.0        0.0      0.0             \n",
       "4        0.0        1.0      0.0  Nonprofit  \n",
       "\n",
       "[5 rows x 65 columns]"
      ]
     },
     "execution_count": 4,
     "metadata": {},
     "output_type": "execute_result"
    }
   ],
   "source": [
    "data.head()"
   ]
  },
  {
   "cell_type": "markdown",
   "metadata": {},
   "source": [
    "##    1. What test is appropriate for this problem? Does CLT apply?\n",
    "\n",
    "For CLT to apply:\n",
    "    1. n has to be large (typically n > 30)\n",
    "    2. Observations must be independent\n",
    "    3. Variables must be independent"
   ]
  },
  {
   "cell_type": "code",
   "execution_count": 5,
   "metadata": {},
   "outputs": [
    {
     "data": {
      "text/plain": [
       "(4870, 65)"
      ]
     },
     "execution_count": 5,
     "metadata": {},
     "output_type": "execute_result"
    }
   ],
   "source": [
    "data.shape"
   ]
  },
  {
   "cell_type": "markdown",
   "metadata": {},
   "source": [
    "We can assume that the CLT holds as the data set is quite large (n = 4870), and we can assume variable and observation independence from the methods of the study.\n",
    "\n",
    "A 2 sample t-test is appropriate for this problem in order to compare callback rates for the two whites and blacks. Because this study is concerned with the probability of a one-time event occuring (callback from a resume), it can be approximated using a Bernoulli distrubition.<br>\n",
    "\n",
    "$\\bar{x}_b$ : sample callback rate mean for blacks<br>\n",
    "$\\bar{x}_w$ : sample callback rate mean for whites<br><br>\n",
    "\n",
    "$$t = \\frac{\\bar{x}_b - \\bar{x}_w}{\\sqrt{\\frac{s^2_b}{n_b}+{\\frac{s^2_w}{n_w}}}}$$\n",
    "\n",
    "## 2. What are the null and alternate hypotheses?\n",
    "\n",
    "$\\mu_{b}$ : population callback rate mean for blacks<br>\n",
    "$\\mu_{w}$ : population callback rate mean for whites<br><br>\n",
    "\n",
    "$h_{0} : \\mu_{b} = \\mu_{w}$ There is no statistically significant difference in callbacks for blacks and whites<br>\n",
    "\n",
    "$h_{a} : \\mu_{b} \\neq \\mu_{w}$ There is a statistically significant differencee in callbacks for blacks and whites\n",
    "\n",
    "## 3. Compute margin of error, confidence interval, and p-value.\n",
    "\n",
    "__Margin of Error for Difference of Means:__\n",
    "$$ \\sigma_\\bar{x} = \\sqrt{\\frac{s_b}{n_b} + \\frac{s_w}{n_w}}$$\n",
    "\n",
    "__Confidence Interval:__\n",
    "$$CI = \\bar{x}\\pm z * \\sigma_{\\bar{x}}$$\n",
    "\n",
    "__Bernoulli Distribution Variance:__\n",
    "$$ s^2 = p*(1-p)$$"
   ]
  },
  {
   "cell_type": "code",
   "execution_count": 6,
   "metadata": {},
   "outputs": [
    {
     "name": "stdout",
     "output_type": "stream",
     "text": [
      "Margin of error: 0.0021486262041695925\n",
      "Callback rate difference with 95% CI: 0.032032854209445585 +/- 0.0042113073601724015\n",
      "t-stat: -4.114705290861751; pvalue 3.940802103128886e-05\n"
     ]
    }
   ],
   "source": [
    "from scipy import stats\n",
    "\n",
    "#Compute callback rates for blacks and whites\n",
    "blacks_calls = data.call.loc[data.race=='b']\n",
    "whites_calls = data.call.loc[data.race=='w']\n",
    "\n",
    "blacks_n = len(data.call.loc[data.race=='b'])\n",
    "whites_n = len(data.call.loc[data.race=='w'])\n",
    "blacks_rate = blacks_calls.sum()/blacks_n\n",
    "whites_rate = whites_calls.sum()/whites_n\n",
    "both_rate = (data.call.sum())/len(data.call)\n",
    "\n",
    "# Compute variance\n",
    "bernoulli_std = lambda x: (x*(1-x))\n",
    "blacks_std = bernoulli_std(blacks_rate)\n",
    "whites_std = bernoulli_std(whites_rate)\n",
    "\n",
    "# Compute t-test\n",
    "tstat, pvalue = stats.ttest_ind(blacks_calls, whites_calls)\n",
    "\n",
    "\n",
    "# Compute Margin of Error\n",
    "diff_standard_error = (blacks_std**2/blacks_n + whites_std**2/whites_n)**.5\n",
    "# Compute CI\n",
    "standard_error_margin = diff_standard_error * 1.96\n",
    "#Compute difference of whites and blacks callback rate\n",
    "diff_of_means = whites_rate - blacks_rate\n",
    "print('Margin of error: {}'.format(diff_standard_error))\n",
    "print(\"Callback rate difference with 95% CI: {} +/- {}\".format(diff_of_means,standard_error_margin))\n",
    "print('t-stat: {}; pvalue {}'.format(tstat,pvalue))"
   ]
  },
  {
   "cell_type": "markdown",
   "metadata": {},
   "source": [
    "As p < .05, the null hypothesis is rejected at the 95% CI level. This means that there is a statistically significant difference in the callback rate for blacks and whites. This can also be seen in the confidence interval, as the minimum difference is still greater than 0.\n",
    "##    4. Write a story describing the statistical significance in the context or the original problem.\n",
    "\n",
    "This dataset contains information on whether a job applicant received a callback. The dataset marks whether the person had a white-sounding name or a black-sounding name. The sample size is 4870 split equally amongst black names and white names. Black names had a callback rate of 6.44%, while white-sounding names had a callback rate of 9.65%. To determine whether the difference in callback rates is statistically significant, a 2 sample $t$-test was used.\n",
    "\n",
    "__Null Hypothesis:__\n",
    "There is not a statistically significant difference in the callback rates of black and white names ($h_{0} : \\mu_{b} = \\mu_{w}$)<br>\n",
    "__Alternate Hypothesis:__\n",
    "There is a statistically significant difference in the callback rates of black and white names ($h_{a} : \\mu_{b} \\neq \\mu_{w}$)\n",
    "\n",
    "The difference in callback rates was found to be statistically significant as p <.05. This means that the null hypopthesis is rejected and alternate hypothesis is accepted at the .05 significance level.\n",
    "\n",
    "## 5. Does your analysis mean that race/name is the most important factor in callback success? Why or why not? If not, how would you amend your analysis?\n",
    "\n",
    "Not necessarily. Although there is a statistically signifcant difference in callback rates bewteen the two types of names, that difference could be the result of many factors which are present in the dataset such as gender, zip code, years of experience, military service, etc. Multiple analyses could be run to determine if there is a difference in callback rate based on those other factors. A logistic regression analysis could also be run with regularization in order to determine the weights of all of the features in the dataset."
   ]
  },
  {
   "cell_type": "code",
   "execution_count": null,
   "metadata": {},
   "outputs": [],
   "source": []
  }
 ],
 "metadata": {
  "kernelspec": {
   "display_name": "Python 3",
   "language": "python",
   "name": "python3"
  },
  "language_info": {
   "codemirror_mode": {
    "name": "ipython",
    "version": 3
   },
   "file_extension": ".py",
   "mimetype": "text/x-python",
   "name": "python",
   "nbconvert_exporter": "python",
   "pygments_lexer": "ipython3",
   "version": "3.6.3"
  }
 },
 "nbformat": 4,
 "nbformat_minor": 1
}
